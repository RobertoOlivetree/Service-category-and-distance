{
 "cells": [
  {
   "cell_type": "code",
   "execution_count": null,
   "id": "22d9ae44-1641-473e-b614-b5b2da73a244",
   "metadata": {},
   "outputs": [],
   "source": [
    "#Python libraries"
   ]
  },
  {
   "cell_type": "code",
   "execution_count": null,
   "id": "d2251625-8cf3-4168-a66c-6b5fc3e3588f",
   "metadata": {},
   "outputs": [],
   "source": [
    "import pandas as pd\n",
    "import geopandas as gpd\n",
    "import folium\n",
    "import matplotlib.pyplot as plt\n",
    "from matplotlib.colors import to_hex\n",
    "import numpy as np\n",
    "from shapely import wkt"
   ]
  },
  {
   "cell_type": "code",
   "execution_count": null,
   "id": "6efeb7c5-9f35-42dd-96b1-2bdf6e43691a",
   "metadata": {},
   "outputs": [],
   "source": [
    "# Load data, process geometries, create a map, color buildings by nearby services, add tooltips & legend, display map"
   ]
  },
  {
   "cell_type": "code",
   "execution_count": null,
   "id": "3cd3e993-aa10-4240-9d7e-b5c46282135b",
   "metadata": {},
   "outputs": [],
   "source": [
    "# Load the CSV file\n",
    "resultados_unidos = pd.read_csv(\"servicos_categoria.csv\")\n",
    "\n",
    "# Convert WKT geometry to Shapely objects\n",
    "resultados_unidos['geometry'] = resultados_unidos['geometry_wkt'].apply(wkt.loads)\n",
    "\n",
    "# Create a GeoDataFrame\n",
    "resultados_unidos = gpd.GeoDataFrame(resultados_unidos, geometry='geometry', crs=\"EPSG:4326\")\n",
    "\n",
    "# Ensure all 'numero_servicos_proximos' values are numeric and fill NaN with 0\n",
    "resultados_unidos['numero_servicos_proximos'] = pd.to_numeric(resultados_unidos['numero_servicos_proximos'], errors='coerce').fillna(0)\n",
    "\n",
    "# Reproject to a projected CRS for accurate centroid calculations\n",
    "resultados_unidos_proj = resultados_unidos.to_crs(epsg=3857)\n",
    "\n",
    "# Calculate the center of the map\n",
    "centro_lat = resultados_unidos_proj.geometry.centroid.to_crs(epsg=4326).y.mean()\n",
    "centro_lon = resultados_unidos_proj.geometry.centroid.to_crs(epsg=4326).x.mean()\n",
    "\n",
    "# Create the map centered at the computed midpoint\n",
    "m = folium.Map(location=[centro_lat, centro_lon], zoom_start=14)\n",
    "\n",
    "# Determine normalization range\n",
    "vmin = resultados_unidos['numero_servicos_proximos'].min()\n",
    "vmax = resultados_unidos['numero_servicos_proximos'].max()\n",
    "if vmin == vmax:\n",
    "    vmin = 0\n",
    "    vmax = vmax + 1  # Prevents division by zero\n",
    "\n",
    "# Function to determine color based on 'numero_servicos_proximos'\n",
    "def get_color(numero_servicos_proximos):\n",
    "    cmap = plt.get_cmap('YlOrRd')\n",
    "    norm = plt.Normalize(vmin=vmin, vmax=vmax)\n",
    "    return to_hex(cmap(norm(numero_servicos_proximos))) if numero_servicos_proximos > 0 else '#d3d3d3'  # Light gray for zero values\n",
    "\n",
    "# Create building layer\n",
    "edificios_layer = folium.FeatureGroup(name='Buildings').add_to(m)\n",
    "\n",
    "# Ensure the DataFrame contains the required column\n",
    "if 'numero_servicos_proximos' not in resultados_unidos.columns:\n",
    "    print(\"Error: Column 'numero_servicos_proximos' not found in DataFrame!\")\n",
    "\n",
    "# Add buildings to the map with correctly assigned properties\n",
    "geojson = folium.GeoJson(\n",
    "    resultados_unidos,\n",
    "    name=\"Buildings\",\n",
    "    style_function=lambda feature: {\n",
    "        'fillColor': get_color(feature['properties'].get('numero_servicos_proximos', 0)),  # Default value of 0 if not found\n",
    "        'color': 'black',\n",
    "        'weight': 1,\n",
    "        'fillOpacity': 0.7\n",
    "    },\n",
    "    tooltip=folium.GeoJsonTooltip(\n",
    "        fields=['numero_servicos_proximos', 'servicos_por_categoria'],\n",
    "        aliases=['Nearby services:', 'Services by category:'],\n",
    "        localize=True\n",
    "    )\n",
    ").add_to(edificios_layer)\n",
    "\n",
    "# Add layer control\n",
    "folium.LayerControl().add_to(m)\n",
    "\n",
    "# Create color scale\n",
    "colormap = plt.get_cmap('YlOrRd')\n",
    "color_scale = folium.StepColormap(\n",
    "    [to_hex(colormap(i)) for i in np.linspace(0, 1, 256)],\n",
    "    vmin=vmin,\n",
    "    vmax=vmax,\n",
    "    caption='Number of Nearby Services'\n",
    ")\n",
    "color_scale.add_to(m)\n",
    "\n",
    "# Display the map\n",
    "m"
   ]
  }
 ],
 "metadata": {
  "kernelspec": {
   "display_name": "Python 3 (ipykernel)",
   "language": "python",
   "name": "python3"
  },
  "language_info": {
   "codemirror_mode": {
    "name": "ipython",
    "version": 3
   },
   "file_extension": ".py",
   "mimetype": "text/x-python",
   "name": "python",
   "nbconvert_exporter": "python",
   "pygments_lexer": "ipython3",
   "version": "3.12.2"
  }
 },
 "nbformat": 4,
 "nbformat_minor": 5
}
